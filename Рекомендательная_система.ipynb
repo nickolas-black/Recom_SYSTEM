{
  "nbformat": 4,
  "nbformat_minor": 0,
  "metadata": {
    "kernelspec": {
      "display_name": "Python 3",
      "language": "python",
      "name": "python3"
    },
    "language_info": {
      "codemirror_mode": {
        "name": "ipython",
        "version": 3
      },
      "file_extension": ".py",
      "mimetype": "text/x-python",
      "name": "python",
      "nbconvert_exporter": "python",
      "pygments_lexer": "ipython3",
      "version": "3.7.6"
    },
    "colab": {
      "name": "Рекомендательная_система",
      "provenance": []
    }
  },
  "cells": [
    {
      "cell_type": "markdown",
      "metadata": {
        "id": "6NhpaIrWovLF"
      },
      "source": [
        "### Двухуровневая рекомендательная система.\n"
      ]
    },
    {
      "cell_type": "markdown",
      "metadata": {
        "id": "F5weEwvdovLX"
      },
      "source": [
        "##### Входные данные:\n",
        " - data - данные по продажам\n",
        " - item_features - данные по товарам\n",
        " - user_features - данные по покупателям\n",
        " - test_data - тестовые данные по продажам для финального тестирования модели\n",
        " \n",
        "##### Задача: построить рекомендательную систему по товарам.  \n",
        "##### Целевая метрика - money precision @ 5. Целевое значение - money precision @ 5 > 0,27%  \n",
        "\n",
        "##### Бизнес ограничения в топ-5 товарах:  \n",
        "- Для каждого юзера 5 рекомендаций\n",
        "- 2 новых товара (юзер никогда не покупал)\n",
        "- 1 дорогой товар, > 7 долларов\n",
        "- Все товары из разных категорий (категория - sub_commodity_desc)\n",
        "- Стоимость каждого рекомендованного товара > 1 доллара\n",
        "\n",
        "##### Выходной формат данных - .csv файл с рекомендациями. В .csv файле 2 столбца: user_id - (item_id1, item_id2, ..., item_id5)  \n",
        "\n",
        "Реализуем двухуровневую рекомендательную систему по схеме Implicit.ALS + LightGBM\n"
      ]
    },
    {
      "cell_type": "markdown",
      "metadata": {
        "id": "AdQCycVVovLZ"
      },
      "source": [
        "----"
      ]
    },
    {
      "cell_type": "markdown",
      "metadata": {
        "id": "0DMUpN6JovLZ"
      },
      "source": [
        "##### Реализация  (пайплайн)  \n",
        "- загружаем данные\n",
        "- разбиваем на трейн/тесты в соответствии с 2 уровнями\n",
        "- осуществляем предфильрацию\n",
        "- обучаем рекоммендер первого уровня. при обучении используем tfidf-взвешивание, берем own_rec - прочие были отметены опытным путем"
      ]
    },
    {
      "cell_type": "markdown",
      "metadata": {
        "id": "sT1q6BonovLa"
      },
      "source": [
        "- готовим фичи для товаров: \n",
        " * эмбеддинги\n",
        " * цена\n",
        " * среднее кол-во товара в корзине\n",
        " * накопительная выручка по товару\n",
        " * кол-во товаров в той же категории\n",
        " * кол-во дней с последней продажи. если продаж за период не было, то берем кол-во дней в периоде и умножаем на 2 (типа вес)\n",
        " * оставшиеся фичи преобразуем в категориальные  "
      ]
    },
    {
      "cell_type": "markdown",
      "metadata": {
        "id": "Mswd9ds4ovLb"
      },
      "source": [
        "- готовим фичи для юзеров:\n",
        " * эмбеддинги\n",
        " * средний чек\n",
        " * дней с последней покупки. если покупок за период не было, то берем кол-во дней в периоде и умножаем на 2 (типа вес)\n",
        " * преобразуем возраст, средний доход, размер дома и кол-во детей в числовой формат\n",
        " * оставшиеся фичи преобразуем в категориальные"
      ]
    },
    {
      "cell_type": "markdown",
      "metadata": {
        "id": "HOzIuPmQovLc"
      },
      "source": [
        "- обучаем модель второго уровня. в качестве результата берем скор предикта.\n",
        "- по скорам отбираем для юзера рекомендованные товары (100)\n",
        "- по бизнес-требованиям из них отбираем по 5 товаров\n",
        "- считаем метрику"
      ]
    },
    {
      "cell_type": "markdown",
      "metadata": {
        "id": "7A5CYe5aovLd"
      },
      "source": [
        "- с помощью обученной модели считаем предикт для тестовых данных, считаем метрику."
      ]
    },
    {
      "cell_type": "markdown",
      "metadata": {
        "id": "SD0NS2kPovLd"
      },
      "source": [
        "#### Что можно было бы еще:  \n",
        " - попробовать на первом уровне вместо бейзлайна использовать гибридную модель. первые попытки ощутимого результата не дали, поэтому было отложено.\n",
        " - попробовать дополнительные фичи как для товаров и юзеров, так и для пар юзер-товар. \n",
        " - попробовать gridsearch\n",
        " - Попробовать иные лоссы\n",
        " - пред-фильтровать данные для модели 2 уровня\n",
        " - попробовать на втором уровне XGBoost или нейронку.  \n",
        " - выполнить более качественный рефакторинг - добавить функциональную обработку данных или вынести второй уровень в отдельный класс с написанием соответствующих методов\n",
        "   \n",
        "это все был отложено, так как полуенный результат в принципе пока устроил, а времени катастрофически не хватало."
      ]
    },
    {
      "cell_type": "code",
      "metadata": {
        "id": "tpfy7DUiovLe"
      },
      "source": [
        "import pandas as pd\n",
        "import numpy as np\n",
        "\n",
        "from scipy.sparse import csr_matrix, coo_matrix\n",
        "\n",
        "# Матричная факторизация\n",
        "from implicit import als\n",
        "\n",
        "# Модель второго уровня\n",
        "from lightgbm import LGBMClassifier\n",
        "\n",
        "# import os, sys\n",
        "# module_path = os.path.abspath(os.path.join(os.pardir))\n",
        "# if module_path not in sys.path:\n",
        "#     sys.path.append(module_path)\n",
        "\n",
        "from src.metrics import precision_at_k, recall_at_k, money_precision_at_k\n",
        "from src.utils import pre_filter_items, get_users_features, get_items_features, get_recommendation_5\n",
        "from src.recommenders import MainRecommender\n",
        "\n",
        "import warnings\n",
        "warnings.filterwarnings(\"ignore\")\n",
        "\n",
        "from tqdm import tqdm\n",
        "tqdm.pandas()"
      ],
      "execution_count": null,
      "outputs": []
    },
    {
      "cell_type": "markdown",
      "metadata": {
        "id": "LjHodLjwovLf"
      },
      "source": [
        "Загружаем данные"
      ]
    },
    {
      "cell_type": "code",
      "metadata": {
        "id": "zdLBAgZ5ovLg"
      },
      "source": [
        "path = 'C:\\\\Project\\\\data\\\\'\n",
        "path_data = path + 'retail_train.csv'  # ниже загружаю уже с расчитанной ценой\n",
        "path_features = path + 'product.csv'\n",
        "path_user = path + 'hh_demographic.csv'\n",
        "\n",
        "data = pd.read_csv(path_data)\n",
        "item_features = pd.read_csv(path_features)\n",
        "user_features = pd.read_csv(path_user)\n",
        "\n",
        "# column processing\n",
        "item_features.columns = [col.lower() for col in item_features.columns]\n",
        "user_features.columns = [col.lower() for col in user_features.columns]\n",
        "\n",
        "item_features.rename(columns={'product_id': 'item_id'}, inplace=True)\n",
        "user_features.rename(columns={'household_key': 'user_id'}, inplace=True)"
      ],
      "execution_count": null,
      "outputs": []
    },
    {
      "cell_type": "code",
      "metadata": {
        "id": "2jeCQSjrovLt"
      },
      "source": [
        "test_path = path + 'retail_test1.csv'\n",
        "test_data = pd.read_csv(test_path)"
      ],
      "execution_count": null,
      "outputs": []
    },
    {
      "cell_type": "code",
      "metadata": {
        "id": "WaHp1wC6ovLu",
        "outputId": "a7b05756-e436-4254-f55a-455724fafeaa"
      },
      "source": [
        "data.shape, test_data.shape"
      ],
      "execution_count": null,
      "outputs": [
        {
          "output_type": "execute_result",
          "data": {
            "text/plain": [
              "((2396804, 12), (88734, 12))"
            ]
          },
          "metadata": {
            "tags": []
          },
          "execution_count": 16
        }
      ]
    },
    {
      "cell_type": "code",
      "metadata": {
        "id": "ItNM3ioDovLx"
      },
      "source": [
        "#сразу считаем цены - они нам потребуются далее\n",
        "prices = data.groupby(['item_id'])['sales_value'].mean().reset_index()\n",
        "sales_qty = data.groupby(['item_id'])['quantity'].mean().reset_index()\n",
        "prices = prices.merge(sales_qty, on='item_id', how='left')\n",
        "prices['price'] = [prices.iloc[i]['sales_value'] / prices.iloc[i]['quantity']\\\n",
        "                   if prices.iloc[i]['quantity'] > 0 else 0 for i in prices['item_id'].index]\n",
        "prices.drop(columns=['sales_value', 'quantity'], axis=1, inplace=True)"
      ],
      "execution_count": null,
      "outputs": []
    },
    {
      "cell_type": "code",
      "metadata": {
        "id": "Q5puEVamovLy",
        "outputId": "806f7467-c243-419e-9939-a1c13debb595"
      },
      "source": [
        "data = data.merge(prices, on='item_id', how='left')\n",
        "data.head(2)"
      ],
      "execution_count": null,
      "outputs": [
        {
          "output_type": "execute_result",
          "data": {
            "text/html": [
              "<div>\n",
              "<style scoped>\n",
              "    .dataframe tbody tr th:only-of-type {\n",
              "        vertical-align: middle;\n",
              "    }\n",
              "\n",
              "    .dataframe tbody tr th {\n",
              "        vertical-align: top;\n",
              "    }\n",
              "\n",
              "    .dataframe thead th {\n",
              "        text-align: right;\n",
              "    }\n",
              "</style>\n",
              "<table border=\"1\" class=\"dataframe\">\n",
              "  <thead>\n",
              "    <tr style=\"text-align: right;\">\n",
              "      <th></th>\n",
              "      <th>user_id</th>\n",
              "      <th>basket_id</th>\n",
              "      <th>day</th>\n",
              "      <th>item_id</th>\n",
              "      <th>quantity</th>\n",
              "      <th>sales_value</th>\n",
              "      <th>store_id</th>\n",
              "      <th>retail_disc</th>\n",
              "      <th>trans_time</th>\n",
              "      <th>week_no</th>\n",
              "      <th>coupon_disc</th>\n",
              "      <th>coupon_match_disc</th>\n",
              "      <th>price</th>\n",
              "    </tr>\n",
              "  </thead>\n",
              "  <tbody>\n",
              "    <tr>\n",
              "      <th>0</th>\n",
              "      <td>2375</td>\n",
              "      <td>26984851472</td>\n",
              "      <td>1</td>\n",
              "      <td>1004906</td>\n",
              "      <td>1</td>\n",
              "      <td>1.39</td>\n",
              "      <td>364</td>\n",
              "      <td>-0.6</td>\n",
              "      <td>1631</td>\n",
              "      <td>1</td>\n",
              "      <td>0.0</td>\n",
              "      <td>0.0</td>\n",
              "      <td>2.385178</td>\n",
              "    </tr>\n",
              "    <tr>\n",
              "      <th>1</th>\n",
              "      <td>2375</td>\n",
              "      <td>26984851472</td>\n",
              "      <td>1</td>\n",
              "      <td>1033142</td>\n",
              "      <td>1</td>\n",
              "      <td>0.82</td>\n",
              "      <td>364</td>\n",
              "      <td>0.0</td>\n",
              "      <td>1631</td>\n",
              "      <td>1</td>\n",
              "      <td>0.0</td>\n",
              "      <td>0.0</td>\n",
              "      <td>0.945892</td>\n",
              "    </tr>\n",
              "  </tbody>\n",
              "</table>\n",
              "</div>"
            ],
            "text/plain": [
              "   user_id    basket_id  day  item_id  quantity  sales_value  store_id  \\\n",
              "0     2375  26984851472    1  1004906         1         1.39       364   \n",
              "1     2375  26984851472    1  1033142         1         0.82       364   \n",
              "\n",
              "   retail_disc  trans_time  week_no  coupon_disc  coupon_match_disc     price  \n",
              "0         -0.6        1631        1          0.0                0.0  2.385178  \n",
              "1          0.0        1631        1          0.0                0.0  0.945892  "
            ]
          },
          "metadata": {
            "tags": []
          },
          "execution_count": 18
        }
      ]
    },
    {
      "cell_type": "markdown",
      "metadata": {
        "id": "EemL9I_fovL0"
      },
      "source": [
        "Расчет цены делается не особо быстро - оставил возможность загруки готовых данных на будущее."
      ]
    },
    {
      "cell_type": "code",
      "metadata": {
        "id": "lf7wuDivovL0"
      },
      "source": [
        "# path_data_with_prices = path + 'data_prices.csv'\n",
        "# data.to_csv(path_data_with_prices, index=False)"
      ],
      "execution_count": null,
      "outputs": []
    },
    {
      "cell_type": "code",
      "metadata": {
        "id": "IVOwlXq8ovL1"
      },
      "source": [
        "# data = pd.read_csv(path_data_with_prices)\n",
        "# data.head(2)\n",
        "# если что - не забыть дропнуть цены - вынести их в отдельный датасет!"
      ],
      "execution_count": null,
      "outputs": []
    },
    {
      "cell_type": "code",
      "metadata": {
        "id": "PgOgGtaRovL2"
      },
      "source": [
        "# Схема разбиения: все данные -> 6 недель -> 3 недели\n",
        "val_lvl_1_size_weeks = 6\n",
        "val_lvl_2_size_weeks = 3\n",
        "\n",
        "data_train_lvl_1 = data[data['week_no'] < data['week_no'].max() - (val_lvl_1_size_weeks + val_lvl_2_size_weeks)]\n",
        "data_val_lvl_1 = data[(data['week_no'] >= data['week_no'].max() - (val_lvl_1_size_weeks + val_lvl_2_size_weeks)) &\n",
        "                      (data['week_no'] <= data['week_no'].max() - (val_lvl_2_size_weeks))]\n",
        "\n",
        "data_train_lvl_2 = data_val_lvl_1.copy()  \n",
        "data_val_lvl_2 = data[data['week_no'] > data['week_no'].max() - val_lvl_2_size_weeks]"
      ],
      "execution_count": null,
      "outputs": []
    },
    {
      "cell_type": "code",
      "metadata": {
        "id": "wgOq0NvyovL3",
        "outputId": "144e9f5a-dd84-4bc7-a398-c82548257607"
      },
      "source": [
        "# Тренировочные данные для 1 уровня\n",
        "data_train_lvl_1.head(2)"
      ],
      "execution_count": null,
      "outputs": [
        {
          "output_type": "execute_result",
          "data": {
            "text/html": [
              "<div>\n",
              "<style scoped>\n",
              "    .dataframe tbody tr th:only-of-type {\n",
              "        vertical-align: middle;\n",
              "    }\n",
              "\n",
              "    .dataframe tbody tr th {\n",
              "        vertical-align: top;\n",
              "    }\n",
              "\n",
              "    .dataframe thead th {\n",
              "        text-align: right;\n",
              "    }\n",
              "</style>\n",
              "<table border=\"1\" class=\"dataframe\">\n",
              "  <thead>\n",
              "    <tr style=\"text-align: right;\">\n",
              "      <th></th>\n",
              "      <th>user_id</th>\n",
              "      <th>basket_id</th>\n",
              "      <th>day</th>\n",
              "      <th>item_id</th>\n",
              "      <th>quantity</th>\n",
              "      <th>sales_value</th>\n",
              "      <th>store_id</th>\n",
              "      <th>retail_disc</th>\n",
              "      <th>trans_time</th>\n",
              "      <th>week_no</th>\n",
              "      <th>coupon_disc</th>\n",
              "      <th>coupon_match_disc</th>\n",
              "      <th>price</th>\n",
              "    </tr>\n",
              "  </thead>\n",
              "  <tbody>\n",
              "    <tr>\n",
              "      <th>0</th>\n",
              "      <td>2375</td>\n",
              "      <td>26984851472</td>\n",
              "      <td>1</td>\n",
              "      <td>1004906</td>\n",
              "      <td>1</td>\n",
              "      <td>1.39</td>\n",
              "      <td>364</td>\n",
              "      <td>-0.6</td>\n",
              "      <td>1631</td>\n",
              "      <td>1</td>\n",
              "      <td>0.0</td>\n",
              "      <td>0.0</td>\n",
              "      <td>2.385178</td>\n",
              "    </tr>\n",
              "    <tr>\n",
              "      <th>1</th>\n",
              "      <td>2375</td>\n",
              "      <td>26984851472</td>\n",
              "      <td>1</td>\n",
              "      <td>1033142</td>\n",
              "      <td>1</td>\n",
              "      <td>0.82</td>\n",
              "      <td>364</td>\n",
              "      <td>0.0</td>\n",
              "      <td>1631</td>\n",
              "      <td>1</td>\n",
              "      <td>0.0</td>\n",
              "      <td>0.0</td>\n",
              "      <td>0.945892</td>\n",
              "    </tr>\n",
              "  </tbody>\n",
              "</table>\n",
              "</div>"
            ],
            "text/plain": [
              "   user_id    basket_id  day  item_id  quantity  sales_value  store_id  \\\n",
              "0     2375  26984851472    1  1004906         1         1.39       364   \n",
              "1     2375  26984851472    1  1033142         1         0.82       364   \n",
              "\n",
              "   retail_disc  trans_time  week_no  coupon_disc  coupon_match_disc     price  \n",
              "0         -0.6        1631        1          0.0                0.0  2.385178  \n",
              "1          0.0        1631        1          0.0                0.0  0.945892  "
            ]
          },
          "metadata": {
            "tags": []
          },
          "execution_count": 22
        }
      ]
    },
    {
      "cell_type": "code",
      "metadata": {
        "id": "pLYiwwqIovL4",
        "outputId": "3c720058-0be3-489c-9ed5-ac081aa013a3"
      },
      "source": [
        "# Предфильтрация\n",
        "n_items_before = data_train_lvl_1['item_id'].nunique()\n",
        "data_train_lvl_1 = pre_filter_items(data_train_lvl_1, item_features=item_features, take_n_popular=5000)\n",
        "n_items_after = data_train_lvl_1['item_id'].nunique()\n",
        "print(f'Decreased # items from {n_items_before} to {n_items_after}')"
      ],
      "execution_count": null,
      "outputs": [
        {
          "output_type": "stream",
          "text": [
            "Decreased # items from 83685 to 5001\n"
          ],
          "name": "stdout"
        }
      ]
    },
    {
      "cell_type": "code",
      "metadata": {
        "id": "XpoDDmn4ovL5",
        "outputId": "5fded7f1-598d-4184-b77c-a8d3fd7a8f4c"
      },
      "source": [
        "items_sold = data_train_lvl_1['item_id'].unique().tolist()\n",
        "print(f'Отобрано категорий - {item_features[item_features[\"item_id\"].isin(items_sold)][\"sub_commodity_desc\"].nunique()}')"
      ],
      "execution_count": null,
      "outputs": [
        {
          "output_type": "stream",
          "text": [
            "Отобрано категорий - 740\n"
          ],
          "name": "stdout"
        }
      ]
    },
    {
      "cell_type": "code",
      "metadata": {
        "colab": {
          "referenced_widgets": [
            "8675b7f7021c454689b4a5e9e551e952",
            "02c6764f265341339c87080b7eacc659"
          ]
        },
        "id": "tCpzJopcovL7",
        "outputId": "3aaaa54a-e0d8-4716-fca4-6bc5e1510a31"
      },
      "source": [
        "# обучаем рекоммендер первого уровня\n",
        "recommender = MainRecommender(data_train_lvl_1, weighting=True)"
      ],
      "execution_count": null,
      "outputs": [
        {
          "output_type": "stream",
          "text": [
            "WARNING:root:Intel MKL BLAS detected. Its highly recommend to set the environment variable 'export MKL_NUM_THREADS=1' to disable its internal multithreading\n"
          ],
          "name": "stderr"
        },
        {
          "output_type": "display_data",
          "data": {
            "application/vnd.jupyter.widget-view+json": {
              "model_id": "8675b7f7021c454689b4a5e9e551e952",
              "version_major": 2,
              "version_minor": 0
            },
            "text/plain": [
              "HBox(children=(FloatProgress(value=0.0, max=15.0), HTML(value='')))"
            ]
          },
          "metadata": {
            "tags": []
          }
        },
        {
          "output_type": "stream",
          "text": [
            "\n"
          ],
          "name": "stdout"
        },
        {
          "output_type": "display_data",
          "data": {
            "application/vnd.jupyter.widget-view+json": {
              "model_id": "02c6764f265341339c87080b7eacc659",
              "version_major": 2,
              "version_minor": 0
            },
            "text/plain": [
              "HBox(children=(FloatProgress(value=0.0, max=5001.0), HTML(value='')))"
            ]
          },
          "metadata": {
            "tags": []
          }
        },
        {
          "output_type": "stream",
          "text": [
            "\n"
          ],
          "name": "stdout"
        }
      ]
    },
    {
      "cell_type": "code",
      "metadata": {
        "id": "g9M_S9QCovL8"
      },
      "source": [
        "# Сохраняем эмбеддинги - будут использованы далее в качестве фичей\n",
        "items_embeddings = recommender.items_emb_df\n",
        "users_embeddings = recommender.users_emb_df"
      ],
      "execution_count": null,
      "outputs": []
    },
    {
      "cell_type": "markdown",
      "metadata": {
        "id": "oHHNk0MgovL9"
      },
      "source": [
        "Строим рекомендации первого уровня"
      ]
    },
    {
      "cell_type": "code",
      "metadata": {
        "id": "CaepG9wvovL9",
        "outputId": "58004ead-5671-47d7-a932-523993cb6f7c"
      },
      "source": [
        "# actual - фактически купленные товары\n",
        "result_lvl_1 = data_val_lvl_1.groupby('user_id')['item_id'].unique().reset_index()\n",
        "result_lvl_1.columns=['user_id', 'actual']\n",
        "result_lvl_1.head(2)"
      ],
      "execution_count": null,
      "outputs": [
        {
          "output_type": "execute_result",
          "data": {
            "text/html": [
              "<div>\n",
              "<style scoped>\n",
              "    .dataframe tbody tr th:only-of-type {\n",
              "        vertical-align: middle;\n",
              "    }\n",
              "\n",
              "    .dataframe tbody tr th {\n",
              "        vertical-align: top;\n",
              "    }\n",
              "\n",
              "    .dataframe thead th {\n",
              "        text-align: right;\n",
              "    }\n",
              "</style>\n",
              "<table border=\"1\" class=\"dataframe\">\n",
              "  <thead>\n",
              "    <tr style=\"text-align: right;\">\n",
              "      <th></th>\n",
              "      <th>user_id</th>\n",
              "      <th>actual</th>\n",
              "    </tr>\n",
              "  </thead>\n",
              "  <tbody>\n",
              "    <tr>\n",
              "      <th>0</th>\n",
              "      <td>1</td>\n",
              "      <td>[853529, 865456, 867607, 872137, 874905, 87524...</td>\n",
              "    </tr>\n",
              "    <tr>\n",
              "      <th>1</th>\n",
              "      <td>2</td>\n",
              "      <td>[15830248, 838136, 839656, 861272, 866211, 870...</td>\n",
              "    </tr>\n",
              "  </tbody>\n",
              "</table>\n",
              "</div>"
            ],
            "text/plain": [
              "   user_id                                             actual\n",
              "0        1  [853529, 865456, 867607, 872137, 874905, 87524...\n",
              "1        2  [15830248, 838136, 839656, 861272, 866211, 870..."
            ]
          },
          "metadata": {
            "tags": []
          },
          "execution_count": 29
        }
      ]
    },
    {
      "cell_type": "code",
      "metadata": {
        "id": "aMpYSFH0ovL-"
      },
      "source": [
        "N = 200 # Кол-во рекомендаций для юзера\n",
        "users = set(data_train_lvl_1['user_id'].unique().tolist())\n",
        "top_popular_items = recommender.overall_top_purchases[:N]"
      ],
      "execution_count": null,
      "outputs": []
    },
    {
      "cell_type": "code",
      "metadata": {
        "id": "z34vM3kaovL_",
        "outputId": "ca70eff8-3445-45bc-f3f6-88dcf6339086"
      },
      "source": [
        "# Строим рекомендации\n",
        "result_lvl_1['own_recommendations'] = result_lvl_1['user_id'].progress_apply(lambda x: \\\n",
        "                                                                             recommender.get_own_recommendations(x, N=N))"
      ],
      "execution_count": null,
      "outputs": [
        {
          "output_type": "stream",
          "text": [
            "100%|██████████████████████████████████████████████████████████████████████████████| 2197/2197 [00:37<00:00, 58.96it/s]\n"
          ],
          "name": "stderr"
        }
      ]
    },
    {
      "cell_type": "code",
      "metadata": {
        "id": "WE38zWghovL_",
        "outputId": "96efb4a9-fb05-4fec-fcde-c5f19ecf37ee"
      },
      "source": [
        "result_lvl_1.tail(2)"
      ],
      "execution_count": null,
      "outputs": [
        {
          "output_type": "execute_result",
          "data": {
            "text/html": [
              "<div>\n",
              "<style scoped>\n",
              "    .dataframe tbody tr th:only-of-type {\n",
              "        vertical-align: middle;\n",
              "    }\n",
              "\n",
              "    .dataframe tbody tr th {\n",
              "        vertical-align: top;\n",
              "    }\n",
              "\n",
              "    .dataframe thead th {\n",
              "        text-align: right;\n",
              "    }\n",
              "</style>\n",
              "<table border=\"1\" class=\"dataframe\">\n",
              "  <thead>\n",
              "    <tr style=\"text-align: right;\">\n",
              "      <th></th>\n",
              "      <th>user_id</th>\n",
              "      <th>actual</th>\n",
              "      <th>own_recommendations</th>\n",
              "    </tr>\n",
              "  </thead>\n",
              "  <tbody>\n",
              "    <tr>\n",
              "      <th>2195</th>\n",
              "      <td>2499</td>\n",
              "      <td>[861282, 921744, 1050968, 13842089, 828837, 86...</td>\n",
              "      <td>[1082185, 1029743, 995242, 1106523, 981760, 11...</td>\n",
              "    </tr>\n",
              "    <tr>\n",
              "      <th>2196</th>\n",
              "      <td>2500</td>\n",
              "      <td>[856455, 902192, 903476, 931672, 936634, 95170...</td>\n",
              "      <td>[1082185, 1029743, 995242, 1106523, 981760, 11...</td>\n",
              "    </tr>\n",
              "  </tbody>\n",
              "</table>\n",
              "</div>"
            ],
            "text/plain": [
              "      user_id                                             actual  \\\n",
              "2195     2499  [861282, 921744, 1050968, 13842089, 828837, 86...   \n",
              "2196     2500  [856455, 902192, 903476, 931672, 936634, 95170...   \n",
              "\n",
              "                                    own_recommendations  \n",
              "2195  [1082185, 1029743, 995242, 1106523, 981760, 11...  \n",
              "2196  [1082185, 1029743, 995242, 1106523, 981760, 11...  "
            ]
          },
          "metadata": {
            "tags": []
          },
          "execution_count": 32
        }
      ]
    },
    {
      "cell_type": "code",
      "metadata": {
        "id": "UuIvJqz0ovMA"
      },
      "source": [
        "# # Сохраним дабы заново не считать потом.\n",
        "# path_res = path + 'res_lvl_1.csv'\n",
        "# result_lvl_1.to_csv(path_res)"
      ],
      "execution_count": null,
      "outputs": []
    },
    {
      "cell_type": "code",
      "metadata": {
        "id": "RKTm9Ob-ovMA"
      },
      "source": [
        "#result = pd.read_csv(path_res)\n",
        "#result.drop(columns='Unnamed: 0', axis=1, inplace=True)\n",
        "#result_lvl_1.head(2)"
      ],
      "execution_count": null,
      "outputs": []
    },
    {
      "cell_type": "code",
      "metadata": {
        "id": "hFfGM0ymovMA"
      },
      "source": [
        "# Отберем уникальных юзеров для обучения 2 уровня\n",
        "users_lvl_2 = pd.DataFrame(data_train_lvl_2['user_id'].unique())\n",
        "users_lvl_2.columns = ['user_id']\n",
        "# Пока только warm start - для новых используем бейзлайн\n",
        "train_users = data_train_lvl_1['user_id'].unique()\n",
        "users_lvl_2 = users_lvl_2[users_lvl_2['user_id'].isin(train_users)]"
      ],
      "execution_count": null,
      "outputs": []
    },
    {
      "cell_type": "code",
      "metadata": {
        "id": "JU01cDj7ovMB",
        "outputId": "9843fc4c-16ef-4d8d-98f4-ceeba1953d51"
      },
      "source": [
        "# добавляем рекомендации с первого уровня\n",
        "users_lvl_2 = users_lvl_2.merge(result_lvl_1, on='user_id', how='left')\n",
        "users_lvl_2.tail(2)"
      ],
      "execution_count": null,
      "outputs": [
        {
          "output_type": "execute_result",
          "data": {
            "text/html": [
              "<div>\n",
              "<style scoped>\n",
              "    .dataframe tbody tr th:only-of-type {\n",
              "        vertical-align: middle;\n",
              "    }\n",
              "\n",
              "    .dataframe tbody tr th {\n",
              "        vertical-align: top;\n",
              "    }\n",
              "\n",
              "    .dataframe thead th {\n",
              "        text-align: right;\n",
              "    }\n",
              "</style>\n",
              "<table border=\"1\" class=\"dataframe\">\n",
              "  <thead>\n",
              "    <tr style=\"text-align: right;\">\n",
              "      <th></th>\n",
              "      <th>user_id</th>\n",
              "      <th>actual</th>\n",
              "      <th>own_recommendations</th>\n",
              "    </tr>\n",
              "  </thead>\n",
              "  <tbody>\n",
              "    <tr>\n",
              "      <th>2193</th>\n",
              "      <td>903</td>\n",
              "      <td>[923746, 1005274, 1070820, 6961519]</td>\n",
              "      <td>[1082185, 1029743, 995242, 1106523, 981760, 11...</td>\n",
              "    </tr>\n",
              "    <tr>\n",
              "      <th>2194</th>\n",
              "      <td>1276</td>\n",
              "      <td>[834484, 855672, 860776, 879528, 954355, 95802...</td>\n",
              "      <td>[1082185, 1029743, 995242, 1106523, 981760, 11...</td>\n",
              "    </tr>\n",
              "  </tbody>\n",
              "</table>\n",
              "</div>"
            ],
            "text/plain": [
              "      user_id                                             actual  \\\n",
              "2193      903                [923746, 1005274, 1070820, 6961519]   \n",
              "2194     1276  [834484, 855672, 860776, 879528, 954355, 95802...   \n",
              "\n",
              "                                    own_recommendations  \n",
              "2193  [1082185, 1029743, 995242, 1106523, 981760, 11...  \n",
              "2194  [1082185, 1029743, 995242, 1106523, 981760, 11...  "
            ]
          },
          "metadata": {
            "tags": []
          },
          "execution_count": 36
        }
      ]
    },
    {
      "cell_type": "markdown",
      "metadata": {
        "id": "fieG_FoyovMB"
      },
      "source": [
        "Генерируем фичи для второго уровня.  \n",
        "Юзеры."
      ]
    },
    {
      "cell_type": "code",
      "metadata": {
        "id": "4FeaKiNOovMB",
        "outputId": "84118d8f-e850-48dc-c149-643af062c382"
      },
      "source": [
        "user_features_upd = get_users_features(user_features, data_train_lvl_2, users_embeddings)\n",
        "user_features_upd.head(2)"
      ],
      "execution_count": null,
      "outputs": [
        {
          "output_type": "execute_result",
          "data": {
            "text/html": [
              "<div>\n",
              "<style scoped>\n",
              "    .dataframe tbody tr th:only-of-type {\n",
              "        vertical-align: middle;\n",
              "    }\n",
              "\n",
              "    .dataframe tbody tr th {\n",
              "        vertical-align: top;\n",
              "    }\n",
              "\n",
              "    .dataframe thead th {\n",
              "        text-align: right;\n",
              "    }\n",
              "</style>\n",
              "<table border=\"1\" class=\"dataframe\">\n",
              "  <thead>\n",
              "    <tr style=\"text-align: right;\">\n",
              "      <th></th>\n",
              "      <th>user_id</th>\n",
              "      <th>marital_status_code</th>\n",
              "      <th>homeowner_desc</th>\n",
              "      <th>hh_comp_desc</th>\n",
              "      <th>age_desc_int</th>\n",
              "      <th>income_desc_int</th>\n",
              "      <th>household_size_desc_int</th>\n",
              "      <th>kid_category_desc_int</th>\n",
              "      <th>days_from_last_purchase</th>\n",
              "      <th>av_check</th>\n",
              "      <th>...</th>\n",
              "      <th>10</th>\n",
              "      <th>11</th>\n",
              "      <th>12</th>\n",
              "      <th>13</th>\n",
              "      <th>14</th>\n",
              "      <th>15</th>\n",
              "      <th>16</th>\n",
              "      <th>17</th>\n",
              "      <th>18</th>\n",
              "      <th>19</th>\n",
              "    </tr>\n",
              "  </thead>\n",
              "  <tbody>\n",
              "    <tr>\n",
              "      <th>0</th>\n",
              "      <td>1</td>\n",
              "      <td>A</td>\n",
              "      <td>Homeowner</td>\n",
              "      <td>2 Adults No Kids</td>\n",
              "      <td>70</td>\n",
              "      <td>42</td>\n",
              "      <td>2</td>\n",
              "      <td>0</td>\n",
              "      <td>3</td>\n",
              "      <td>51.265000</td>\n",
              "      <td>...</td>\n",
              "      <td>6.527886</td>\n",
              "      <td>-12.539451</td>\n",
              "      <td>5.984131</td>\n",
              "      <td>-1.037484</td>\n",
              "      <td>4.962157</td>\n",
              "      <td>2.861279</td>\n",
              "      <td>0.998516</td>\n",
              "      <td>5.748231</td>\n",
              "      <td>8.489971</td>\n",
              "      <td>2.292151</td>\n",
              "    </tr>\n",
              "    <tr>\n",
              "      <th>1</th>\n",
              "      <td>7</td>\n",
              "      <td>A</td>\n",
              "      <td>Homeowner</td>\n",
              "      <td>2 Adults No Kids</td>\n",
              "      <td>50</td>\n",
              "      <td>61</td>\n",
              "      <td>2</td>\n",
              "      <td>0</td>\n",
              "      <td>4</td>\n",
              "      <td>41.318571</td>\n",
              "      <td>...</td>\n",
              "      <td>-0.738088</td>\n",
              "      <td>2.945041</td>\n",
              "      <td>2.845266</td>\n",
              "      <td>3.185545</td>\n",
              "      <td>0.621381</td>\n",
              "      <td>-6.108757</td>\n",
              "      <td>-5.112888</td>\n",
              "      <td>0.128096</td>\n",
              "      <td>1.424547</td>\n",
              "      <td>9.206670</td>\n",
              "    </tr>\n",
              "  </tbody>\n",
              "</table>\n",
              "<p>2 rows × 31 columns</p>\n",
              "</div>"
            ],
            "text/plain": [
              "   user_id marital_status_code homeowner_desc      hh_comp_desc  age_desc_int  \\\n",
              "0        1                   A      Homeowner  2 Adults No Kids            70   \n",
              "1        7                   A      Homeowner  2 Adults No Kids            50   \n",
              "\n",
              "   income_desc_int  household_size_desc_int  kid_category_desc_int  \\\n",
              "0               42                        2                      0   \n",
              "1               61                        2                      0   \n",
              "\n",
              "   days_from_last_purchase   av_check  ...        10         11        12  \\\n",
              "0                        3  51.265000  ...  6.527886 -12.539451  5.984131   \n",
              "1                        4  41.318571  ... -0.738088   2.945041  2.845266   \n",
              "\n",
              "         13        14        15        16        17        18        19  \n",
              "0 -1.037484  4.962157  2.861279  0.998516  5.748231  8.489971  2.292151  \n",
              "1  3.185545  0.621381 -6.108757 -5.112888  0.128096  1.424547  9.206670  \n",
              "\n",
              "[2 rows x 31 columns]"
            ]
          },
          "metadata": {
            "tags": []
          },
          "execution_count": 37
        }
      ]
    },
    {
      "cell_type": "markdown",
      "metadata": {
        "id": "3Iuo2chnovMC"
      },
      "source": [
        " Товары"
      ]
    },
    {
      "cell_type": "code",
      "metadata": {
        "id": "IfMutMJJovMC",
        "outputId": "0fb872d2-a369-4366-ad6e-15b5023e195e"
      },
      "source": [
        "item_features_upd = get_items_features(item_features, data_train_lvl_2, items_embeddings)\n",
        "item_features_upd.head(2)"
      ],
      "execution_count": null,
      "outputs": [
        {
          "output_type": "execute_result",
          "data": {
            "text/html": [
              "<div>\n",
              "<style scoped>\n",
              "    .dataframe tbody tr th:only-of-type {\n",
              "        vertical-align: middle;\n",
              "    }\n",
              "\n",
              "    .dataframe tbody tr th {\n",
              "        vertical-align: top;\n",
              "    }\n",
              "\n",
              "    .dataframe thead th {\n",
              "        text-align: right;\n",
              "    }\n",
              "</style>\n",
              "<table border=\"1\" class=\"dataframe\">\n",
              "  <thead>\n",
              "    <tr style=\"text-align: right;\">\n",
              "      <th></th>\n",
              "      <th>item_id</th>\n",
              "      <th>manufacturer</th>\n",
              "      <th>department</th>\n",
              "      <th>brand</th>\n",
              "      <th>commodity_desc</th>\n",
              "      <th>sub_commodity_desc</th>\n",
              "      <th>curr_size_of_product</th>\n",
              "      <th>days_from_last_purchase_item</th>\n",
              "      <th>av_item_num_per_basket</th>\n",
              "      <th>item_value</th>\n",
              "      <th>...</th>\n",
              "      <th>10</th>\n",
              "      <th>11</th>\n",
              "      <th>12</th>\n",
              "      <th>13</th>\n",
              "      <th>14</th>\n",
              "      <th>15</th>\n",
              "      <th>16</th>\n",
              "      <th>17</th>\n",
              "      <th>18</th>\n",
              "      <th>19</th>\n",
              "    </tr>\n",
              "  </thead>\n",
              "  <tbody>\n",
              "    <tr>\n",
              "      <th>0</th>\n",
              "      <td>25671</td>\n",
              "      <td>2</td>\n",
              "      <td>GROCERY</td>\n",
              "      <td>National</td>\n",
              "      <td>FRZN ICE</td>\n",
              "      <td>ICE - CRUSHED/CUBED</td>\n",
              "      <td>22 LB</td>\n",
              "      <td>345.0</td>\n",
              "      <td>0.0</td>\n",
              "      <td>0.0</td>\n",
              "      <td>...</td>\n",
              "      <td>NaN</td>\n",
              "      <td>NaN</td>\n",
              "      <td>NaN</td>\n",
              "      <td>NaN</td>\n",
              "      <td>NaN</td>\n",
              "      <td>NaN</td>\n",
              "      <td>NaN</td>\n",
              "      <td>NaN</td>\n",
              "      <td>NaN</td>\n",
              "      <td>NaN</td>\n",
              "    </tr>\n",
              "    <tr>\n",
              "      <th>1</th>\n",
              "      <td>26081</td>\n",
              "      <td>2</td>\n",
              "      <td>MISC. TRANS.</td>\n",
              "      <td>National</td>\n",
              "      <td>NO COMMODITY DESCRIPTION</td>\n",
              "      <td>NO SUBCOMMODITY DESCRIPTION</td>\n",
              "      <td></td>\n",
              "      <td>345.0</td>\n",
              "      <td>0.0</td>\n",
              "      <td>0.0</td>\n",
              "      <td>...</td>\n",
              "      <td>NaN</td>\n",
              "      <td>NaN</td>\n",
              "      <td>NaN</td>\n",
              "      <td>NaN</td>\n",
              "      <td>NaN</td>\n",
              "      <td>NaN</td>\n",
              "      <td>NaN</td>\n",
              "      <td>NaN</td>\n",
              "      <td>NaN</td>\n",
              "      <td>NaN</td>\n",
              "    </tr>\n",
              "  </tbody>\n",
              "</table>\n",
              "<p>2 rows × 31 columns</p>\n",
              "</div>"
            ],
            "text/plain": [
              "   item_id manufacturer    department     brand            commodity_desc  \\\n",
              "0    25671            2       GROCERY  National                  FRZN ICE   \n",
              "1    26081            2  MISC. TRANS.  National  NO COMMODITY DESCRIPTION   \n",
              "\n",
              "            sub_commodity_desc curr_size_of_product  \\\n",
              "0          ICE - CRUSHED/CUBED                22 LB   \n",
              "1  NO SUBCOMMODITY DESCRIPTION                        \n",
              "\n",
              "   days_from_last_purchase_item  av_item_num_per_basket  item_value  ...  10  \\\n",
              "0                         345.0                     0.0         0.0  ... NaN   \n",
              "1                         345.0                     0.0         0.0  ... NaN   \n",
              "\n",
              "   11  12  13  14  15  16  17  18  19  \n",
              "0 NaN NaN NaN NaN NaN NaN NaN NaN NaN  \n",
              "1 NaN NaN NaN NaN NaN NaN NaN NaN NaN  \n",
              "\n",
              "[2 rows x 31 columns]"
            ]
          },
          "metadata": {
            "tags": []
          },
          "execution_count": 38
        }
      ]
    },
    {
      "cell_type": "code",
      "metadata": {
        "id": "GgJTDb_5ovMD"
      },
      "source": [
        "#Добавим цены - надо бы внести в функцию подготовки фичей по товарам!\n",
        "item_features_upd = item_features_upd.merge(prices, on='item_id', how='left')"
      ],
      "execution_count": null,
      "outputs": []
    },
    {
      "cell_type": "markdown",
      "metadata": {
        "id": "2XA9K2OxovMD"
      },
      "source": [
        "Готовим данные для обучения второго уровня.  "
      ]
    },
    {
      "cell_type": "code",
      "metadata": {
        "id": "wq89WZEJovMD"
      },
      "source": [
        "s = users_lvl_2.apply(lambda x: pd.Series(x['own_recommendations']), axis=1).stack().reset_index(level=1, drop=True)\n",
        "s.name = 'item_id'\n",
        "users_lvl_2 = users_lvl_2.drop('own_recommendations', axis=1).join(s)\n",
        "users_lvl_2 = users_lvl_2.drop('actual', axis=1)\n",
        "users_lvl_2['drop'] = 1  # фиктивная переменная"
      ],
      "execution_count": null,
      "outputs": []
    },
    {
      "cell_type": "code",
      "metadata": {
        "id": "KtFvirQtovME",
        "outputId": "3aece855-9ab2-4d4f-84fc-725cf742697c"
      },
      "source": [
        "data_train_lvl_2.shape"
      ],
      "execution_count": null,
      "outputs": [
        {
          "output_type": "execute_result",
          "data": {
            "text/plain": [
              "(202837, 13)"
            ]
          },
          "metadata": {
            "tags": []
          },
          "execution_count": 41
        }
      ]
    },
    {
      "cell_type": "code",
      "metadata": {
        "id": "7Nm6GypmovME"
      },
      "source": [
        "targets_lvl_2 = data_train_lvl_2[['user_id','item_id']].copy()\n",
        "targets_lvl_2['target'] = 1  # тут покупки \n",
        "targets_lvl_2 = users_lvl_2.merge(targets_lvl_2, on=['user_id', 'item_id'], how='left')\n",
        "targets_lvl_2['target'].fillna(0, inplace= True) # тут не было покупок\n",
        "targets_lvl_2.drop('drop', axis=1, inplace=True)"
      ],
      "execution_count": null,
      "outputs": []
    },
    {
      "cell_type": "code",
      "metadata": {
        "id": "90Q_n1HoovME",
        "outputId": "410552ce-ac26-437b-c19a-8eeb07820c01"
      },
      "source": [
        "targets_lvl_2.head(2)"
      ],
      "execution_count": null,
      "outputs": [
        {
          "output_type": "execute_result",
          "data": {
            "text/html": [
              "<div>\n",
              "<style scoped>\n",
              "    .dataframe tbody tr th:only-of-type {\n",
              "        vertical-align: middle;\n",
              "    }\n",
              "\n",
              "    .dataframe tbody tr th {\n",
              "        vertical-align: top;\n",
              "    }\n",
              "\n",
              "    .dataframe thead th {\n",
              "        text-align: right;\n",
              "    }\n",
              "</style>\n",
              "<table border=\"1\" class=\"dataframe\">\n",
              "  <thead>\n",
              "    <tr style=\"text-align: right;\">\n",
              "      <th></th>\n",
              "      <th>user_id</th>\n",
              "      <th>item_id</th>\n",
              "      <th>target</th>\n",
              "    </tr>\n",
              "  </thead>\n",
              "  <tbody>\n",
              "    <tr>\n",
              "      <th>0</th>\n",
              "      <td>2070</td>\n",
              "      <td>1082185</td>\n",
              "      <td>1.0</td>\n",
              "    </tr>\n",
              "    <tr>\n",
              "      <th>1</th>\n",
              "      <td>2070</td>\n",
              "      <td>1029743</td>\n",
              "      <td>0.0</td>\n",
              "    </tr>\n",
              "  </tbody>\n",
              "</table>\n",
              "</div>"
            ],
            "text/plain": [
              "   user_id  item_id  target\n",
              "0     2070  1082185     1.0\n",
              "1     2070  1029743     0.0"
            ]
          },
          "metadata": {
            "tags": []
          },
          "execution_count": 43
        }
      ]
    },
    {
      "cell_type": "code",
      "metadata": {
        "id": "Q972s5C1ovMF"
      },
      "source": [
        "targets_lvl_2 = targets_lvl_2.merge(user_features_upd, on='user_id', how='left')\n",
        "targets_lvl_2 = targets_lvl_2.merge(item_features_upd, on='item_id', how='left')"
      ],
      "execution_count": null,
      "outputs": []
    },
    {
      "cell_type": "code",
      "metadata": {
        "id": "O4yBaOe_ovMF",
        "outputId": "4d388095-db59-4c5d-b94a-163c0dcaa25e"
      },
      "source": [
        "targets_lvl_2.shape"
      ],
      "execution_count": null,
      "outputs": [
        {
          "output_type": "execute_result",
          "data": {
            "text/plain": [
              "(449918, 64)"
            ]
          },
          "metadata": {
            "tags": []
          },
          "execution_count": 45
        }
      ]
    },
    {
      "cell_type": "code",
      "metadata": {
        "id": "9jcsX_uNovMF",
        "outputId": "d6183dc0-cee7-4964-d113-2563c5e4eadd"
      },
      "source": [
        "targets_lvl_2.head(2)"
      ],
      "execution_count": null,
      "outputs": [
        {
          "output_type": "execute_result",
          "data": {
            "text/html": [
              "<div>\n",
              "<style scoped>\n",
              "    .dataframe tbody tr th:only-of-type {\n",
              "        vertical-align: middle;\n",
              "    }\n",
              "\n",
              "    .dataframe tbody tr th {\n",
              "        vertical-align: top;\n",
              "    }\n",
              "\n",
              "    .dataframe thead th {\n",
              "        text-align: right;\n",
              "    }\n",
              "</style>\n",
              "<table border=\"1\" class=\"dataframe\">\n",
              "  <thead>\n",
              "    <tr style=\"text-align: right;\">\n",
              "      <th></th>\n",
              "      <th>user_id</th>\n",
              "      <th>item_id</th>\n",
              "      <th>target</th>\n",
              "      <th>marital_status_code</th>\n",
              "      <th>homeowner_desc</th>\n",
              "      <th>hh_comp_desc</th>\n",
              "      <th>age_desc_int</th>\n",
              "      <th>income_desc_int</th>\n",
              "      <th>household_size_desc_int</th>\n",
              "      <th>kid_category_desc_int</th>\n",
              "      <th>...</th>\n",
              "      <th>11_y</th>\n",
              "      <th>12_y</th>\n",
              "      <th>13_y</th>\n",
              "      <th>14_y</th>\n",
              "      <th>15_y</th>\n",
              "      <th>16_y</th>\n",
              "      <th>17_y</th>\n",
              "      <th>18_y</th>\n",
              "      <th>19_y</th>\n",
              "      <th>price</th>\n",
              "    </tr>\n",
              "  </thead>\n",
              "  <tbody>\n",
              "    <tr>\n",
              "      <th>0</th>\n",
              "      <td>2070</td>\n",
              "      <td>1082185</td>\n",
              "      <td>1.0</td>\n",
              "      <td>U</td>\n",
              "      <td>Unknown</td>\n",
              "      <td>Unknown</td>\n",
              "      <td>50.0</td>\n",
              "      <td>61.0</td>\n",
              "      <td>1.0</td>\n",
              "      <td>0.0</td>\n",
              "      <td>...</td>\n",
              "      <td>-0.000513</td>\n",
              "      <td>0.022309</td>\n",
              "      <td>0.029369</td>\n",
              "      <td>0.017117</td>\n",
              "      <td>-0.010773</td>\n",
              "      <td>0.016888</td>\n",
              "      <td>0.017629</td>\n",
              "      <td>0.010078</td>\n",
              "      <td>0.021898</td>\n",
              "      <td>0.961493</td>\n",
              "    </tr>\n",
              "    <tr>\n",
              "      <th>1</th>\n",
              "      <td>2070</td>\n",
              "      <td>1029743</td>\n",
              "      <td>0.0</td>\n",
              "      <td>U</td>\n",
              "      <td>Unknown</td>\n",
              "      <td>Unknown</td>\n",
              "      <td>50.0</td>\n",
              "      <td>61.0</td>\n",
              "      <td>1.0</td>\n",
              "      <td>0.0</td>\n",
              "      <td>...</td>\n",
              "      <td>-0.004586</td>\n",
              "      <td>0.016465</td>\n",
              "      <td>0.033132</td>\n",
              "      <td>0.010877</td>\n",
              "      <td>-0.015461</td>\n",
              "      <td>0.021982</td>\n",
              "      <td>0.017635</td>\n",
              "      <td>0.011317</td>\n",
              "      <td>0.016485</td>\n",
              "      <td>2.397848</td>\n",
              "    </tr>\n",
              "  </tbody>\n",
              "</table>\n",
              "<p>2 rows × 64 columns</p>\n",
              "</div>"
            ],
            "text/plain": [
              "   user_id  item_id  target marital_status_code homeowner_desc hh_comp_desc  \\\n",
              "0     2070  1082185     1.0                   U        Unknown      Unknown   \n",
              "1     2070  1029743     0.0                   U        Unknown      Unknown   \n",
              "\n",
              "   age_desc_int  income_desc_int  household_size_desc_int  \\\n",
              "0          50.0             61.0                      1.0   \n",
              "1          50.0             61.0                      1.0   \n",
              "\n",
              "   kid_category_desc_int  ...      11_y      12_y      13_y      14_y  \\\n",
              "0                    0.0  ... -0.000513  0.022309  0.029369  0.017117   \n",
              "1                    0.0  ... -0.004586  0.016465  0.033132  0.010877   \n",
              "\n",
              "       15_y      16_y      17_y      18_y      19_y     price  \n",
              "0 -0.010773  0.016888  0.017629  0.010078  0.021898  0.961493  \n",
              "1 -0.015461  0.021982  0.017635  0.011317  0.016485  2.397848  \n",
              "\n",
              "[2 rows x 64 columns]"
            ]
          },
          "metadata": {
            "tags": []
          },
          "execution_count": 46
        }
      ]
    },
    {
      "cell_type": "markdown",
      "metadata": {
        "id": "j-ZsB8TVovMG"
      },
      "source": [
        "Обучаем 2 уровень. Предфильтрацию здесь пока не делаю!"
      ]
    },
    {
      "cell_type": "code",
      "metadata": {
        "id": "6szSl1JNovMG"
      },
      "source": [
        "X_train = targets_lvl_2.drop('target', axis=1)\n",
        "y_train = targets_lvl_2[['target']]"
      ],
      "execution_count": null,
      "outputs": []
    },
    {
      "cell_type": "code",
      "metadata": {
        "id": "CxkT4NS9ovMG"
      },
      "source": [
        "#X_train.info()"
      ],
      "execution_count": null,
      "outputs": []
    },
    {
      "cell_type": "code",
      "metadata": {
        "id": "QVvxh8keovMH"
      },
      "source": [
        "cat_feats = ['marital_status_code', 'homeowner_desc', 'hh_comp_desc', 'manufacturer', 'department', 'brand', \n",
        "             'commodity_desc', 'sub_commodity_desc', 'curr_size_of_product']"
      ],
      "execution_count": null,
      "outputs": []
    },
    {
      "cell_type": "code",
      "metadata": {
        "id": "YLf3azvMovMH",
        "outputId": "e15ea8a0-6c0f-4bd4-dc0d-95acaa705a0d"
      },
      "source": [
        "# Gridsearch??\n",
        "#%%time\n",
        "\n",
        "lgb = LGBMClassifier(objective='binary', max_depth=7, categorical_column=cat_feats)\n",
        "lgb.fit(X_train, y_train)"
      ],
      "execution_count": null,
      "outputs": [
        {
          "output_type": "stream",
          "text": [
            "[LightGBM] [Warning] Accuracy may be bad since you didn't set num_leaves and 2^max_depth > num_leaves\n"
          ],
          "name": "stdout"
        },
        {
          "output_type": "execute_result",
          "data": {
            "text/plain": [
              "LGBMClassifier(boosting_type='gbdt',\n",
              "               categorical_column=['marital_status_code', 'homeowner_desc',\n",
              "                                   'hh_comp_desc', 'manufacturer', 'department',\n",
              "                                   'brand', 'commodity_desc',\n",
              "                                   'sub_commodity_desc',\n",
              "                                   'curr_size_of_product'],\n",
              "               class_weight=None, colsample_bytree=1.0, importance_type='split',\n",
              "               learning_rate=0.1, max_depth=7, min_child_samples=20,\n",
              "               min_child_weight=0.001, min_split_gain=0.0, n_estimators=100,\n",
              "               n_jobs=-1, num_leaves=31, objective='binary', random_state=None,\n",
              "               reg_alpha=0.0, reg_lambda=0.0, silent=True, subsample=1.0,\n",
              "               subsample_for_bin=200000, subsample_freq=0)"
            ]
          },
          "metadata": {
            "tags": []
          },
          "execution_count": 50
        }
      ]
    },
    {
      "cell_type": "markdown",
      "metadata": {
        "id": "FOdXqHGjovMH"
      },
      "source": [
        "Строим предикт для 2 уровня."
      ]
    },
    {
      "cell_type": "code",
      "metadata": {
        "id": "9hOOJRrvovMI"
      },
      "source": [
        "targets_lvl_3 = data_val_lvl_2[['user_id', 'item_id']].copy()\n",
        "targets_lvl_3.drop_duplicates(keep='first', inplace=True)"
      ],
      "execution_count": null,
      "outputs": []
    },
    {
      "cell_type": "code",
      "metadata": {
        "id": "zy_F32VKovMJ",
        "outputId": "5337be3b-1685-4578-d1b1-3dcbd0f0f59e"
      },
      "source": [
        "targets_lvl_3 = targets_lvl_3.merge(user_features_upd, on='user_id', how='left')\n",
        "targets_lvl_3 = targets_lvl_3.merge(item_features_upd, on='item_id', how='left')\n",
        "targets_lvl_3.shape"
      ],
      "execution_count": null,
      "outputs": [
        {
          "output_type": "execute_result",
          "data": {
            "text/plain": [
              "(77336, 63)"
            ]
          },
          "metadata": {
            "tags": []
          },
          "execution_count": 52
        }
      ]
    },
    {
      "cell_type": "code",
      "metadata": {
        "id": "mxh5_bhZovMK"
      },
      "source": [
        "preds = lgb.predict(targets_lvl_3)\n",
        "test_preds_proba = lgb.predict_proba(targets_lvl_3) #[:, 1]"
      ],
      "execution_count": null,
      "outputs": []
    },
    {
      "cell_type": "code",
      "metadata": {
        "id": "j24N8QGaovMK",
        "outputId": "dc551ccc-6c50-4dd7-d179-5ae78f804963"
      },
      "source": [
        "targets_lvl_3['res'] = test_preds_proba[:, 1]\n",
        "targets_lvl_3.head(2)"
      ],
      "execution_count": null,
      "outputs": [
        {
          "output_type": "execute_result",
          "data": {
            "text/html": [
              "<div>\n",
              "<style scoped>\n",
              "    .dataframe tbody tr th:only-of-type {\n",
              "        vertical-align: middle;\n",
              "    }\n",
              "\n",
              "    .dataframe tbody tr th {\n",
              "        vertical-align: top;\n",
              "    }\n",
              "\n",
              "    .dataframe thead th {\n",
              "        text-align: right;\n",
              "    }\n",
              "</style>\n",
              "<table border=\"1\" class=\"dataframe\">\n",
              "  <thead>\n",
              "    <tr style=\"text-align: right;\">\n",
              "      <th></th>\n",
              "      <th>user_id</th>\n",
              "      <th>item_id</th>\n",
              "      <th>marital_status_code</th>\n",
              "      <th>homeowner_desc</th>\n",
              "      <th>hh_comp_desc</th>\n",
              "      <th>age_desc_int</th>\n",
              "      <th>income_desc_int</th>\n",
              "      <th>household_size_desc_int</th>\n",
              "      <th>kid_category_desc_int</th>\n",
              "      <th>days_from_last_purchase</th>\n",
              "      <th>...</th>\n",
              "      <th>12_y</th>\n",
              "      <th>13_y</th>\n",
              "      <th>14_y</th>\n",
              "      <th>15_y</th>\n",
              "      <th>16_y</th>\n",
              "      <th>17_y</th>\n",
              "      <th>18_y</th>\n",
              "      <th>19_y</th>\n",
              "      <th>price</th>\n",
              "      <th>res</th>\n",
              "    </tr>\n",
              "  </thead>\n",
              "  <tbody>\n",
              "    <tr>\n",
              "      <th>0</th>\n",
              "      <td>2449</td>\n",
              "      <td>721164</td>\n",
              "      <td>A</td>\n",
              "      <td>Homeowner</td>\n",
              "      <td>2 Adults Kids</td>\n",
              "      <td>40.0</td>\n",
              "      <td>187.0</td>\n",
              "      <td>5.0</td>\n",
              "      <td>3.0</td>\n",
              "      <td>4.0</td>\n",
              "      <td>...</td>\n",
              "      <td>NaN</td>\n",
              "      <td>NaN</td>\n",
              "      <td>NaN</td>\n",
              "      <td>NaN</td>\n",
              "      <td>NaN</td>\n",
              "      <td>NaN</td>\n",
              "      <td>NaN</td>\n",
              "      <td>NaN</td>\n",
              "      <td>13.99000</td>\n",
              "      <td>0.001522</td>\n",
              "    </tr>\n",
              "    <tr>\n",
              "      <th>1</th>\n",
              "      <td>314</td>\n",
              "      <td>820486</td>\n",
              "      <td>U</td>\n",
              "      <td>Homeowner</td>\n",
              "      <td>2 Adults Kids</td>\n",
              "      <td>50.0</td>\n",
              "      <td>87.0</td>\n",
              "      <td>3.0</td>\n",
              "      <td>1.0</td>\n",
              "      <td>27.0</td>\n",
              "      <td>...</td>\n",
              "      <td>0.005132</td>\n",
              "      <td>0.001326</td>\n",
              "      <td>0.004616</td>\n",
              "      <td>0.00486</td>\n",
              "      <td>-0.001289</td>\n",
              "      <td>0.010011</td>\n",
              "      <td>-0.002704</td>\n",
              "      <td>0.013835</td>\n",
              "      <td>2.09358</td>\n",
              "      <td>0.017706</td>\n",
              "    </tr>\n",
              "  </tbody>\n",
              "</table>\n",
              "<p>2 rows × 64 columns</p>\n",
              "</div>"
            ],
            "text/plain": [
              "   user_id  item_id marital_status_code homeowner_desc   hh_comp_desc  \\\n",
              "0     2449   721164                   A      Homeowner  2 Adults Kids   \n",
              "1      314   820486                   U      Homeowner  2 Adults Kids   \n",
              "\n",
              "   age_desc_int  income_desc_int  household_size_desc_int  \\\n",
              "0          40.0            187.0                      5.0   \n",
              "1          50.0             87.0                      3.0   \n",
              "\n",
              "   kid_category_desc_int  days_from_last_purchase  ...      12_y      13_y  \\\n",
              "0                    3.0                      4.0  ...       NaN       NaN   \n",
              "1                    1.0                     27.0  ...  0.005132  0.001326   \n",
              "\n",
              "       14_y     15_y      16_y      17_y      18_y      19_y     price  \\\n",
              "0       NaN      NaN       NaN       NaN       NaN       NaN  13.99000   \n",
              "1  0.004616  0.00486 -0.001289  0.010011 -0.002704  0.013835   2.09358   \n",
              "\n",
              "        res  \n",
              "0  0.001522  \n",
              "1  0.017706  \n",
              "\n",
              "[2 rows x 64 columns]"
            ]
          },
          "metadata": {
            "tags": []
          },
          "execution_count": 54
        }
      ]
    },
    {
      "cell_type": "code",
      "metadata": {
        "id": "M0xB_hgFovML"
      },
      "source": [
        "targets_lvl_3.sort_values(['user_id', 'res'], ascending=False, inplace=True)\n",
        "recs = targets_lvl_3.groupby('user_id')['item_id']\n",
        "\n",
        "recomendations = []\n",
        "for user, preds in recs:\n",
        "    recomendations.append({'user_id': user, 'recomendations': preds.tolist()})"
      ],
      "execution_count": null,
      "outputs": []
    },
    {
      "cell_type": "code",
      "metadata": {
        "id": "Vp4p6TC2ovML",
        "outputId": "47846fce-d0ff-4baf-adbd-f42025de5a24"
      },
      "source": [
        "recomendations = pd.DataFrame(recomendations)\n",
        "\n",
        "result_lvl_2 = data_val_lvl_2.groupby('user_id')['item_id'].unique().reset_index()\n",
        "result_lvl_2.columns=['user_id', 'actual']\n",
        "\n",
        "result_lvl_2 = result_lvl_2.merge(recomendations, on='user_id', how='left')\n",
        "result_lvl_2.head(2)"
      ],
      "execution_count": null,
      "outputs": [
        {
          "output_type": "execute_result",
          "data": {
            "text/html": [
              "<div>\n",
              "<style scoped>\n",
              "    .dataframe tbody tr th:only-of-type {\n",
              "        vertical-align: middle;\n",
              "    }\n",
              "\n",
              "    .dataframe tbody tr th {\n",
              "        vertical-align: top;\n",
              "    }\n",
              "\n",
              "    .dataframe thead th {\n",
              "        text-align: right;\n",
              "    }\n",
              "</style>\n",
              "<table border=\"1\" class=\"dataframe\">\n",
              "  <thead>\n",
              "    <tr style=\"text-align: right;\">\n",
              "      <th></th>\n",
              "      <th>user_id</th>\n",
              "      <th>actual</th>\n",
              "      <th>recomendations</th>\n",
              "    </tr>\n",
              "  </thead>\n",
              "  <tbody>\n",
              "    <tr>\n",
              "      <th>0</th>\n",
              "      <td>1</td>\n",
              "      <td>[883616, 917704, 931860, 961554, 995242, 10020...</td>\n",
              "      <td>[1082185, 995242, 979707, 961554, 940947, 1005...</td>\n",
              "    </tr>\n",
              "    <tr>\n",
              "      <th>1</th>\n",
              "      <td>6</td>\n",
              "      <td>[909479, 7431990, 6553035, 12263667, 13382461,...</td>\n",
              "      <td>[995242, 840361, 849843, 5569230, 845208, 1075...</td>\n",
              "    </tr>\n",
              "  </tbody>\n",
              "</table>\n",
              "</div>"
            ],
            "text/plain": [
              "   user_id                                             actual  \\\n",
              "0        1  [883616, 917704, 931860, 961554, 995242, 10020...   \n",
              "1        6  [909479, 7431990, 6553035, 12263667, 13382461,...   \n",
              "\n",
              "                                      recomendations  \n",
              "0  [1082185, 995242, 979707, 961554, 940947, 1005...  \n",
              "1  [995242, 840361, 849843, 5569230, 845208, 1075...  "
            ]
          },
          "metadata": {
            "tags": []
          },
          "execution_count": 56
        }
      ]
    },
    {
      "cell_type": "markdown",
      "metadata": {
        "id": "LJDgIUyaovMM"
      },
      "source": [
        "Отбираем дорогие товары (> $7)"
      ]
    },
    {
      "cell_type": "code",
      "metadata": {
        "id": "Gsx3xBV2ovMM"
      },
      "source": [
        "top_valued_items = prices[(prices['price'] > 7)]\n",
        "top_valued_items = top_valued_items.sort_values(by='price', ascending=False, na_position='last')\n",
        "top_valued_items_list = top_valued_items['item_id'].tolist()"
      ],
      "execution_count": null,
      "outputs": []
    },
    {
      "cell_type": "code",
      "metadata": {
        "id": "OVyz7griovMN",
        "outputId": "495ac31a-1e93-4221-955e-c31e526bf0f9"
      },
      "source": [
        "# отфильтруем < $1\n",
        "top_popular_items_m = prices[(prices['price'] > 1) & (prices['item_id'].isin(top_popular_items))]['item_id'].tolist() \n",
        "print(f'Популярных товаров до фильтрации - {len(top_popular_items)}, после - {len(top_popular_items_m)}')"
      ],
      "execution_count": null,
      "outputs": [
        {
          "output_type": "stream",
          "text": [
            "Популярных товаров до фильтрации - 200, после - 176\n"
          ],
          "name": "stdout"
        }
      ]
    },
    {
      "cell_type": "code",
      "metadata": {
        "id": "H9srjQ52ovMO"
      },
      "source": [
        "top_valued_items_list = top_valued_items['item_id'].tolist()"
      ],
      "execution_count": null,
      "outputs": []
    },
    {
      "cell_type": "code",
      "metadata": {
        "id": "7VAgYEVfovMP",
        "outputId": "38e3d4b4-c74f-48b2-d0c7-51a42493f580"
      },
      "source": [
        "result_lvl_2['rec'] = result_lvl_2['user_id'].progress_apply\\\n",
        "        (lambda x: get_recommendation_5(x, result_lvl_2, item_features, top_popular_items_m, top_valued_items_list)[0])"
      ],
      "execution_count": null,
      "outputs": [
        {
          "output_type": "stream",
          "text": [
            "100%|██████████████████████████████████████████████████████████████████████████████| 1899/1899 [04:14<00:00,  7.45it/s]\n"
          ],
          "name": "stderr"
        }
      ]
    },
    {
      "cell_type": "code",
      "metadata": {
        "id": "JKVaqQ3kovMP",
        "outputId": "5473ae02-2190-4c13-8669-dd38c5cf00f4"
      },
      "source": [
        "result_lvl_2.head(2)"
      ],
      "execution_count": null,
      "outputs": [
        {
          "output_type": "execute_result",
          "data": {
            "text/html": [
              "<div>\n",
              "<style scoped>\n",
              "    .dataframe tbody tr th:only-of-type {\n",
              "        vertical-align: middle;\n",
              "    }\n",
              "\n",
              "    .dataframe tbody tr th {\n",
              "        vertical-align: top;\n",
              "    }\n",
              "\n",
              "    .dataframe thead th {\n",
              "        text-align: right;\n",
              "    }\n",
              "</style>\n",
              "<table border=\"1\" class=\"dataframe\">\n",
              "  <thead>\n",
              "    <tr style=\"text-align: right;\">\n",
              "      <th></th>\n",
              "      <th>user_id</th>\n",
              "      <th>actual</th>\n",
              "      <th>recomendations</th>\n",
              "      <th>rec</th>\n",
              "    </tr>\n",
              "  </thead>\n",
              "  <tbody>\n",
              "    <tr>\n",
              "      <th>0</th>\n",
              "      <td>1</td>\n",
              "      <td>[883616, 917704, 931860, 961554, 995242, 10020...</td>\n",
              "      <td>[1082185, 995242, 979707, 961554, 940947, 1005...</td>\n",
              "      <td>[1321795, 823704, 824005, 1082185, 995242]</td>\n",
              "    </tr>\n",
              "    <tr>\n",
              "      <th>1</th>\n",
              "      <td>6</td>\n",
              "      <td>[909479, 7431990, 6553035, 12263667, 13382461,...</td>\n",
              "      <td>[995242, 840361, 849843, 5569230, 845208, 1075...</td>\n",
              "      <td>[1329768, 823704, 824005, 995242, 840361]</td>\n",
              "    </tr>\n",
              "  </tbody>\n",
              "</table>\n",
              "</div>"
            ],
            "text/plain": [
              "   user_id                                             actual  \\\n",
              "0        1  [883616, 917704, 931860, 961554, 995242, 10020...   \n",
              "1        6  [909479, 7431990, 6553035, 12263667, 13382461,...   \n",
              "\n",
              "                                      recomendations  \\\n",
              "0  [1082185, 995242, 979707, 961554, 940947, 1005...   \n",
              "1  [995242, 840361, 849843, 5569230, 845208, 1075...   \n",
              "\n",
              "                                          rec  \n",
              "0  [1321795, 823704, 824005, 1082185, 995242]  \n",
              "1   [1329768, 823704, 824005, 995242, 840361]  "
            ]
          },
          "metadata": {
            "tags": []
          },
          "execution_count": 62
        }
      ]
    },
    {
      "cell_type": "markdown",
      "metadata": {
        "id": "YxJTydg4ovMQ"
      },
      "source": [
        "Считаем целевую метрику на сформированных рекомендациях"
      ]
    },
    {
      "cell_type": "code",
      "metadata": {
        "id": "4yYS78FfovMR",
        "outputId": "38ab000b-70bb-4fd3-f9c5-9ab6e1789560"
      },
      "source": [
        "result_lvl_2.progress_apply(lambda row: money_precision_at_k(row['rec'], row['actual'], prices), axis=1).mean()"
      ],
      "execution_count": null,
      "outputs": [
        {
          "output_type": "stream",
          "text": [
            "100%|█████████████████████████████████████████████████████████████████████████████| 1899/1899 [00:14<00:00, 135.27it/s]\n"
          ],
          "name": "stderr"
        },
        {
          "output_type": "execute_result",
          "data": {
            "text/plain": [
              "0.5065662737981665"
            ]
          },
          "metadata": {
            "tags": []
          },
          "execution_count": 63
        }
      ]
    },
    {
      "cell_type": "markdown",
      "metadata": {
        "id": "wR0ort4wovMR"
      },
      "source": [
        "Проверяем не тесте"
      ]
    },
    {
      "cell_type": "code",
      "metadata": {
        "id": "FNtZWh1oovMT"
      },
      "source": [
        "test_data_upd = test_data[['user_id', 'item_id']].copy()\n",
        "test_data_upd.drop_duplicates(keep='first', inplace=True)"
      ],
      "execution_count": null,
      "outputs": []
    },
    {
      "cell_type": "code",
      "metadata": {
        "id": "1nMDqAwOovMT",
        "outputId": "6d8cd6b4-937c-4b3b-d8d0-cbbff118a95e"
      },
      "source": [
        "test_data_upd.shape"
      ],
      "execution_count": null,
      "outputs": [
        {
          "output_type": "execute_result",
          "data": {
            "text/plain": [
              "(79282, 2)"
            ]
          },
          "metadata": {
            "tags": []
          },
          "execution_count": 65
        }
      ]
    },
    {
      "cell_type": "code",
      "metadata": {
        "id": "P-hgejFSovMU",
        "outputId": "3fdd20f0-b8e2-4c65-efb4-7444bdda16af"
      },
      "source": [
        "test_data_upd = test_data_upd.merge(user_features_upd, on='user_id', how='left')\n",
        "test_data_upd = test_data_upd.merge(item_features_upd, on='item_id', how='left')\n",
        "test_data_upd.shape"
      ],
      "execution_count": null,
      "outputs": [
        {
          "output_type": "execute_result",
          "data": {
            "text/plain": [
              "(79282, 63)"
            ]
          },
          "metadata": {
            "tags": []
          },
          "execution_count": 66
        }
      ]
    },
    {
      "cell_type": "code",
      "metadata": {
        "id": "DFzV56sJovMV"
      },
      "source": [
        "test_preds_proba_2 = lgb.predict_proba(test_data_upd)[:, 1]"
      ],
      "execution_count": null,
      "outputs": []
    },
    {
      "cell_type": "code",
      "metadata": {
        "id": "qDOJ7PcuovMV"
      },
      "source": [
        "test_data_upd['proba'] = test_preds_proba_2\n",
        "test_data_upd = test_data_upd[test_data_upd['price'] > 1] # Промежуточная фильтрация!"
      ],
      "execution_count": null,
      "outputs": []
    },
    {
      "cell_type": "code",
      "metadata": {
        "id": "rWIYilTaovMW"
      },
      "source": [
        "result = test_data_upd.groupby('user_id')['item_id'].unique().reset_index()\n",
        "result.columns=['user_id', 'actual']"
      ],
      "execution_count": null,
      "outputs": []
    },
    {
      "cell_type": "code",
      "metadata": {
        "id": "4AieoIMkovMW"
      },
      "source": [
        "test_data_upd.sort_values(['user_id', 'proba'], ascending=False, inplace=True)\n",
        "recs = test_data_upd.groupby('user_id')['item_id']\n",
        "\n",
        "recomendations = []\n",
        "for user, preds in recs:\n",
        "    recomendations.append({'user_id': user, 'recomendations': preds.tolist()})"
      ],
      "execution_count": null,
      "outputs": []
    },
    {
      "cell_type": "code",
      "metadata": {
        "id": "aZ2zVJ5rovMX"
      },
      "source": [
        "recomendations = pd.DataFrame(recomendations)"
      ],
      "execution_count": null,
      "outputs": []
    },
    {
      "cell_type": "code",
      "metadata": {
        "id": "rz4fT4R1ovMX",
        "outputId": "49b69ad5-0106-4f13-df03-ed30c2fccb1f"
      },
      "source": [
        "result = result.merge(recomendations, on='user_id', how='left')\n",
        "result.head(2)"
      ],
      "execution_count": null,
      "outputs": [
        {
          "output_type": "execute_result",
          "data": {
            "text/html": [
              "<div>\n",
              "<style scoped>\n",
              "    .dataframe tbody tr th:only-of-type {\n",
              "        vertical-align: middle;\n",
              "    }\n",
              "\n",
              "    .dataframe tbody tr th {\n",
              "        vertical-align: top;\n",
              "    }\n",
              "\n",
              "    .dataframe thead th {\n",
              "        text-align: right;\n",
              "    }\n",
              "</style>\n",
              "<table border=\"1\" class=\"dataframe\">\n",
              "  <thead>\n",
              "    <tr style=\"text-align: right;\">\n",
              "      <th></th>\n",
              "      <th>user_id</th>\n",
              "      <th>actual</th>\n",
              "      <th>recomendations</th>\n",
              "    </tr>\n",
              "  </thead>\n",
              "  <tbody>\n",
              "    <tr>\n",
              "      <th>0</th>\n",
              "      <td>1</td>\n",
              "      <td>[880007, 883616, 931136, 938004, 940947, 95292...</td>\n",
              "      <td>[962568, 979707, 961554, 1004906, 940947, 5582...</td>\n",
              "    </tr>\n",
              "    <tr>\n",
              "      <th>1</th>\n",
              "      <td>2</td>\n",
              "      <td>[820291, 826784, 826835, 829009, 866211, 87060...</td>\n",
              "      <td>[1133018, 899624, 951590, 1053690, 866211, 102...</td>\n",
              "    </tr>\n",
              "  </tbody>\n",
              "</table>\n",
              "</div>"
            ],
            "text/plain": [
              "   user_id                                             actual  \\\n",
              "0        1  [880007, 883616, 931136, 938004, 940947, 95292...   \n",
              "1        2  [820291, 826784, 826835, 829009, 866211, 87060...   \n",
              "\n",
              "                                      recomendations  \n",
              "0  [962568, 979707, 961554, 1004906, 940947, 5582...  \n",
              "1  [1133018, 899624, 951590, 1053690, 866211, 102...  "
            ]
          },
          "metadata": {
            "tags": []
          },
          "execution_count": 72
        }
      ]
    },
    {
      "cell_type": "code",
      "metadata": {
        "id": "rkGIVVVZovMY",
        "outputId": "ef098611-127b-4b7c-9871-4a592695aef8"
      },
      "source": [
        "result['rec'] = result['user_id'].progress_apply\\\n",
        "        (lambda x: get_recommendation_5(x, result, item_features, top_popular_items_m, top_valued_items_list)[0])"
      ],
      "execution_count": null,
      "outputs": [
        {
          "output_type": "stream",
          "text": [
            "100%|██████████████████████████████████████████████████████████████████████████████| 1865/1865 [03:32<00:00,  8.79it/s]\n"
          ],
          "name": "stderr"
        }
      ]
    },
    {
      "cell_type": "code",
      "metadata": {
        "id": "3Ie4yh7zovMZ",
        "outputId": "b54a82d1-955a-477e-8856-5bdb5b83e536"
      },
      "source": [
        "result.head(2)"
      ],
      "execution_count": null,
      "outputs": [
        {
          "output_type": "execute_result",
          "data": {
            "text/html": [
              "<div>\n",
              "<style scoped>\n",
              "    .dataframe tbody tr th:only-of-type {\n",
              "        vertical-align: middle;\n",
              "    }\n",
              "\n",
              "    .dataframe tbody tr th {\n",
              "        vertical-align: top;\n",
              "    }\n",
              "\n",
              "    .dataframe thead th {\n",
              "        text-align: right;\n",
              "    }\n",
              "</style>\n",
              "<table border=\"1\" class=\"dataframe\">\n",
              "  <thead>\n",
              "    <tr style=\"text-align: right;\">\n",
              "      <th></th>\n",
              "      <th>user_id</th>\n",
              "      <th>actual</th>\n",
              "      <th>recomendations</th>\n",
              "      <th>rec</th>\n",
              "    </tr>\n",
              "  </thead>\n",
              "  <tbody>\n",
              "    <tr>\n",
              "      <th>0</th>\n",
              "      <td>1</td>\n",
              "      <td>[880007, 883616, 931136, 938004, 940947, 95292...</td>\n",
              "      <td>[962568, 979707, 961554, 1004906, 940947, 5582...</td>\n",
              "      <td>[7410161, 823704, 824005, 962568, 979707]</td>\n",
              "    </tr>\n",
              "    <tr>\n",
              "      <th>1</th>\n",
              "      <td>2</td>\n",
              "      <td>[820291, 826784, 826835, 829009, 866211, 87060...</td>\n",
              "      <td>[1133018, 899624, 951590, 1053690, 866211, 102...</td>\n",
              "      <td>[7410217, 823704, 824005, 1133018, 899624]</td>\n",
              "    </tr>\n",
              "  </tbody>\n",
              "</table>\n",
              "</div>"
            ],
            "text/plain": [
              "   user_id                                             actual  \\\n",
              "0        1  [880007, 883616, 931136, 938004, 940947, 95292...   \n",
              "1        2  [820291, 826784, 826835, 829009, 866211, 87060...   \n",
              "\n",
              "                                      recomendations  \\\n",
              "0  [962568, 979707, 961554, 1004906, 940947, 5582...   \n",
              "1  [1133018, 899624, 951590, 1053690, 866211, 102...   \n",
              "\n",
              "                                          rec  \n",
              "0   [7410161, 823704, 824005, 962568, 979707]  \n",
              "1  [7410217, 823704, 824005, 1133018, 899624]  "
            ]
          },
          "metadata": {
            "tags": []
          },
          "execution_count": 74
        }
      ]
    },
    {
      "cell_type": "code",
      "metadata": {
        "id": "NqHBr_h9ovMa",
        "outputId": "968fb8a2-74ba-43b3-d472-c662056b8a7c"
      },
      "source": [
        "result['pres'] = result.progress_apply(lambda row: \\\n",
        "                                                money_precision_at_k(row['rec'], row['actual'], prices), axis=1)#.mean()"
      ],
      "execution_count": null,
      "outputs": [
        {
          "output_type": "stream",
          "text": [
            "100%|█████████████████████████████████████████████████████████████████████████████| 1865/1865 [00:14<00:00, 125.93it/s]\n"
          ],
          "name": "stderr"
        }
      ]
    },
    {
      "cell_type": "markdown",
      "metadata": {
        "id": "rdAMwmWZovMa"
      },
      "source": [
        "Значение метрики на тестовом датасете"
      ]
    },
    {
      "cell_type": "code",
      "metadata": {
        "id": "qyA92M51ovMa",
        "outputId": "e2130b3a-53d0-4efe-ba44-c96fddaa92df"
      },
      "source": [
        "result['pres'].mean()"
      ],
      "execution_count": null,
      "outputs": [
        {
          "output_type": "execute_result",
          "data": {
            "text/plain": [
              "0.5255157784417759"
            ]
          },
          "metadata": {
            "tags": []
          },
          "execution_count": 79
        }
      ]
    },
    {
      "cell_type": "markdown",
      "metadata": {
        "id": "0FOrNzBxovMb"
      },
      "source": [
        "Значение допустимо, задача решена.  \n",
        "В принципе можно почистить - убрать дублирование данных кое-где, но пока оставляю как есть.  \n",
        "Дообучение модели здесь не делаю, выгружаю прогноз для тестовых данных в ту же папку.  \n",
        "Столбец с рекомендацией привожу к строковому виду."
      ]
    },
    {
      "cell_type": "code",
      "metadata": {
        "id": "DHzSLcQXovMb",
        "outputId": "9f769db9-ed77-46d7-ace4-33710d81edd8"
      },
      "source": [
        "result['rec_txt'] = result['rec'].progress_apply(lambda x: str(x)[1: -1])"
      ],
      "execution_count": null,
      "outputs": [
        {
          "output_type": "stream",
          "text": [
            "100%|███████████████████████████████████████████████████████████████████████████| 1865/1865 [00:00<00:00, 64349.40it/s]\n"
          ],
          "name": "stderr"
        }
      ]
    },
    {
      "cell_type": "code",
      "metadata": {
        "id": "SoCA9JvHovMb",
        "outputId": "1d875a74-c7b7-4818-b37e-52b52b56e671"
      },
      "source": [
        "result.head(2)"
      ],
      "execution_count": null,
      "outputs": [
        {
          "output_type": "execute_result",
          "data": {
            "text/html": [
              "<div>\n",
              "<style scoped>\n",
              "    .dataframe tbody tr th:only-of-type {\n",
              "        vertical-align: middle;\n",
              "    }\n",
              "\n",
              "    .dataframe tbody tr th {\n",
              "        vertical-align: top;\n",
              "    }\n",
              "\n",
              "    .dataframe thead th {\n",
              "        text-align: right;\n",
              "    }\n",
              "</style>\n",
              "<table border=\"1\" class=\"dataframe\">\n",
              "  <thead>\n",
              "    <tr style=\"text-align: right;\">\n",
              "      <th></th>\n",
              "      <th>user_id</th>\n",
              "      <th>actual</th>\n",
              "      <th>recomendations</th>\n",
              "      <th>rec</th>\n",
              "      <th>pres</th>\n",
              "      <th>rec_txt</th>\n",
              "    </tr>\n",
              "  </thead>\n",
              "  <tbody>\n",
              "    <tr>\n",
              "      <th>0</th>\n",
              "      <td>1</td>\n",
              "      <td>[880007, 883616, 931136, 938004, 940947, 95292...</td>\n",
              "      <td>[962568, 979707, 961554, 1004906, 940947, 5582...</td>\n",
              "      <td>[7410161, 823704, 824005, 962568, 979707]</td>\n",
              "      <td>0.108961</td>\n",
              "      <td>7410161, 823704, 824005, 962568, 979707</td>\n",
              "    </tr>\n",
              "    <tr>\n",
              "      <th>1</th>\n",
              "      <td>2</td>\n",
              "      <td>[820291, 826784, 826835, 829009, 866211, 87060...</td>\n",
              "      <td>[1133018, 899624, 951590, 1053690, 866211, 102...</td>\n",
              "      <td>[7410217, 823704, 824005, 1133018, 899624]</td>\n",
              "      <td>0.777916</td>\n",
              "      <td>7410217, 823704, 824005, 1133018, 899624</td>\n",
              "    </tr>\n",
              "  </tbody>\n",
              "</table>\n",
              "</div>"
            ],
            "text/plain": [
              "   user_id                                             actual  \\\n",
              "0        1  [880007, 883616, 931136, 938004, 940947, 95292...   \n",
              "1        2  [820291, 826784, 826835, 829009, 866211, 87060...   \n",
              "\n",
              "                                      recomendations  \\\n",
              "0  [962568, 979707, 961554, 1004906, 940947, 5582...   \n",
              "1  [1133018, 899624, 951590, 1053690, 866211, 102...   \n",
              "\n",
              "                                          rec      pres  \\\n",
              "0   [7410161, 823704, 824005, 962568, 979707]  0.108961   \n",
              "1  [7410217, 823704, 824005, 1133018, 899624]  0.777916   \n",
              "\n",
              "                                    rec_txt  \n",
              "0   7410161, 823704, 824005, 962568, 979707  \n",
              "1  7410217, 823704, 824005, 1133018, 899624  "
            ]
          },
          "metadata": {
            "tags": []
          },
          "execution_count": 81
        }
      ]
    },
    {
      "cell_type": "code",
      "metadata": {
        "id": "z8a_pbLVovMc"
      },
      "source": [
        "\n",
        "final_path = path + 'recommendation.csv'\n",
        "result.to_csv(final_path, columns=['user_id', 'rec_txt'], header=['user_id', 'recommended_items_id'], index=False)"
      ],
      "execution_count": null,
      "outputs": []
    }
  ]
}